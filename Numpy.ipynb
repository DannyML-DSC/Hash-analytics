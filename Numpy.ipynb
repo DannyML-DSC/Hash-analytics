{
  "nbformat": 4,
  "nbformat_minor": 0,
  "metadata": {
    "colab": {
      "name": "Numpy",
      "provenance": [],
      "collapsed_sections": [],
      "authorship_tag": "ABX9TyNh7u8yv/8D+BtVczltieZw",
      "include_colab_link": true
    },
    "kernelspec": {
      "name": "python3",
      "display_name": "Python 3"
    }
  },
  "cells": [
    {
      "cell_type": "markdown",
      "metadata": {
        "id": "view-in-github",
        "colab_type": "text"
      },
      "source": [
        "<a href=\"https://colab.research.google.com/github/DannyML-DSC/Hash-analytics/blob/master/Numpy.ipynb\" target=\"_parent\"><img src=\"https://colab.research.google.com/assets/colab-badge.svg\" alt=\"Open In Colab\"/></a>"
      ]
    },
    {
      "cell_type": "code",
      "metadata": {
        "id": "4bir0a9_monU",
        "colab_type": "code",
        "outputId": "6c37e1a1-d5df-4f19-c7dc-9002c6829d33",
        "colab": {
          "base_uri": "https://localhost:8080/",
          "height": 598
        }
      },
      "source": [
        "#authenticatiopn script in gcp\n",
        "!apt-get install -y -qq software-properties-common python-software-properties module-init-tools\n",
        "\n",
        "!apt-get install software-properties-common\n",
        "\n",
        "!apt-get install -y -qq software-properties-common module-init-tools\n",
        "\n",
        "!apt-get install -y -qq python-software-properties module-init-tools\n",
        "\n",
        "!add-apt-repository -y ppa:alessandro-strada/ppa 2>&1 > /dev/null\n",
        "\n",
        "!apt-get update -qq 2>&1 > /dev/null\n",
        "!apt-get -y install -qq google-drive-ocamlfuse fuse\n",
        "from google.colab import auth\n",
        "auth.authenticate_user()\n",
        "from oauth2client.client import GoogleCredentials\n",
        "creds = GoogleCredentials.get_application_default()\n",
        "import getpass\n",
        "!google-drive-ocamlfuse -headless -id={creds.client_id} -secret={creds.client_secret} < /dev/null 2>&1 | grep URL\n",
        "vcode = getpass.getpass()\n",
        "!echo {vcode} | google-drive-ocamlfuse -headless -id={creds.client_id} -secret={creds.client_secret}\n",
        "\n",
        "\n",
        "\n"
      ],
      "execution_count": 0,
      "outputs": [
        {
          "output_type": "stream",
          "text": [
            "E: Package 'python-software-properties' has no installation candidate\n",
            "Reading package lists... Done\n",
            "Building dependency tree       \n",
            "Reading state information... Done\n",
            "The following package was automatically installed and is no longer required:\n",
            "  libnvidia-common-430\n",
            "Use 'apt autoremove' to remove it.\n",
            "The following additional packages will be installed:\n",
            "  python3-software-properties\n",
            "Recommended packages:\n",
            "  unattended-upgrades\n",
            "The following packages will be upgraded:\n",
            "  python3-software-properties software-properties-common\n",
            "2 upgraded, 0 newly installed, 0 to remove and 72 not upgraded.\n",
            "Need to get 33.6 kB of archives.\n",
            "After this operation, 0 B of additional disk space will be used.\n",
            "Get:1 http://archive.ubuntu.com/ubuntu bionic-updates/main amd64 software-properties-common all 0.96.24.32.12 [10.0 kB]\n",
            "Get:2 http://archive.ubuntu.com/ubuntu bionic-updates/main amd64 python3-software-properties all 0.96.24.32.12 [23.6 kB]\n",
            "Fetched 33.6 kB in 1s (50.6 kB/s)\n",
            "(Reading database ... 135009 files and directories currently installed.)\n",
            "Preparing to unpack .../software-properties-common_0.96.24.32.12_all.deb ...\n",
            "Unpacking software-properties-common (0.96.24.32.12) over (0.96.24.32.11) ...\n",
            "Preparing to unpack .../python3-software-properties_0.96.24.32.12_all.deb ...\n",
            "Unpacking python3-software-properties (0.96.24.32.12) over (0.96.24.32.11) ...\n",
            "Setting up python3-software-properties (0.96.24.32.12) ...\n",
            "Setting up software-properties-common (0.96.24.32.12) ...\n",
            "Processing triggers for dbus (1.12.2-1ubuntu1.1) ...\n",
            "Processing triggers for man-db (2.8.3-2ubuntu0.1) ...\n",
            "E: Package 'python-software-properties' has no installation candidate\n",
            "Please, open the following URL in a web browser: https://accounts.google.com/o/oauth2/auth?client_id=32555940559.apps.googleusercontent.com&redirect_uri=urn%3Aietf%3Awg%3Aoauth%3A2.0%3Aoob&scope=https%3A%2F%2Fwww.googleapis.com%2Fauth%2Fdrive&response_type=code&access_type=offline&approval_prompt=force\n",
            "··········\n",
            "Please, open the following URL in a web browser: https://accounts.google.com/o/oauth2/auth?client_id=32555940559.apps.googleusercontent.com&redirect_uri=urn%3Aietf%3Awg%3Aoauth%3A2.0%3Aoob&scope=https%3A%2F%2Fwww.googleapis.com%2Fauth%2Fdrive&response_type=code&access_type=offline&approval_prompt=force\n",
            "Please enter the verification code: Access token retrieved correctly.\n"
          ],
          "name": "stdout"
        }
      ]
    },
    {
      "cell_type": "code",
      "metadata": {
        "id": "NCrJ0S_IqnQR",
        "colab_type": "code",
        "colab": {}
      },
      "source": [
        "#script for reading data from google drive\n",
        "!mkdir -p drive\n",
        "!google-drive-ocamlfuse drive"
      ],
      "execution_count": 0,
      "outputs": []
    },
    {
      "cell_type": "code",
      "metadata": {
        "id": "08HNSaq4ojNT",
        "colab_type": "code",
        "colab": {}
      },
      "source": [
        "import numpy as np"
      ],
      "execution_count": 0,
      "outputs": []
    },
    {
      "cell_type": "code",
      "metadata": {
        "id": "Ggxt5IydtFID",
        "colab_type": "code",
        "outputId": "ef33bfb3-7df7-4855-e858-f7349ec06173",
        "colab": {
          "base_uri": "https://localhost:8080/",
          "height": 51
        }
      },
      "source": [
        "#checking for data type and transforming a list into an array\n",
        "ls = [1,2,3,4]\n",
        "\n",
        "ls_array = np.array(ls)\n",
        "\n",
        "print(ls_array)\n",
        "ls_array.dtype"
      ],
      "execution_count": 0,
      "outputs": [
        {
          "output_type": "stream",
          "text": [
            "[1 2 3 4]\n"
          ],
          "name": "stdout"
        },
        {
          "output_type": "execute_result",
          "data": {
            "text/plain": [
              "dtype('int64')"
            ]
          },
          "metadata": {
            "tags": []
          },
          "execution_count": 5
        }
      ]
    },
    {
      "cell_type": "code",
      "metadata": {
        "id": "FZSVKa27tFfJ",
        "colab_type": "code",
        "outputId": "885ced0a-51c7-4124-af35-5a0748ee4438",
        "colab": {
          "base_uri": "https://localhost:8080/",
          "height": 51
        }
      },
      "source": [
        "#multi dimensional arrrays\n",
        "ls = [1,2,3,4]\n",
        "ls_2 = [5,6,7,8]\n",
        "\n",
        "my_array = np.array([ls,ls_2])\n",
        "\n",
        "print(my_array)"
      ],
      "execution_count": 0,
      "outputs": [
        {
          "output_type": "stream",
          "text": [
            "[[1 2 3 4]\n",
            " [5 6 7 8]]\n"
          ],
          "name": "stdout"
        }
      ]
    },
    {
      "cell_type": "code",
      "metadata": {
        "id": "KHwVe6d8tFZP",
        "colab_type": "code",
        "outputId": "e8e61f5b-de81-49f8-fd1c-b7fb89c0fbbf",
        "colab": {
          "base_uri": "https://localhost:8080/",
          "height": 34
        }
      },
      "source": [
        "#shape\n",
        "np.shape(my_array)"
      ],
      "execution_count": 0,
      "outputs": [
        {
          "output_type": "execute_result",
          "data": {
            "text/plain": [
              "(2, 4)"
            ]
          },
          "metadata": {
            "tags": []
          },
          "execution_count": 7
        }
      ]
    },
    {
      "cell_type": "code",
      "metadata": {
        "id": "2FM5KC0dtFDx",
        "colab_type": "code",
        "outputId": "e2f47e23-db03-40b3-8526-58e94822c059",
        "colab": {
          "base_uri": "https://localhost:8080/",
          "height": 34
        }
      },
      "source": [
        "#dtype: shows trhe datatype of all memebers of the array\n",
        "my_array.dtype"
      ],
      "execution_count": 0,
      "outputs": [
        {
          "output_type": "execute_result",
          "data": {
            "text/plain": [
              "dtype('int64')"
            ]
          },
          "metadata": {
            "tags": []
          },
          "execution_count": 8
        }
      ]
    },
    {
      "cell_type": "code",
      "metadata": {
        "id": "_B7vtdGZtE3s",
        "colab_type": "code",
        "outputId": "8c54f025-bc6c-49c4-b86e-349ed2535f3f",
        "colab": {
          "base_uri": "https://localhost:8080/",
          "height": 34
        }
      },
      "source": [
        "#zeros: creates a new array with zeros\n",
        "#with 5 specified, it prints out 5 zeros in the array.\n",
        "print(np.zeros(5))"
      ],
      "execution_count": 0,
      "outputs": [
        {
          "output_type": "stream",
          "text": [
            "[0. 0. 0. 0. 0.]\n"
          ],
          "name": "stdout"
        }
      ]
    },
    {
      "cell_type": "code",
      "metadata": {
        "id": "thF8bs0JxSoT",
        "colab_type": "code",
        "outputId": "936975ab-cfe9-4c00-99a6-ab6773f6a594",
        "colab": {
          "base_uri": "https://localhost:8080/",
          "height": 102
        }
      },
      "source": [
        "#ones: np.ones([5,5]) prints a d array with one filled in 5 rows and 5 columns\n",
        "print(np.ones([5,5]))"
      ],
      "execution_count": 0,
      "outputs": [
        {
          "output_type": "stream",
          "text": [
            "[[1. 1. 1. 1. 1.]\n",
            " [1. 1. 1. 1. 1.]\n",
            " [1. 1. 1. 1. 1.]\n",
            " [1. 1. 1. 1. 1.]\n",
            " [1. 1. 1. 1. 1.]]\n"
          ],
          "name": "stdout"
        }
      ]
    },
    {
      "cell_type": "code",
      "metadata": {
        "id": "YlrnDsoXx64x",
        "colab_type": "code",
        "outputId": "20761304-af24-4090-916a-125f2212c647",
        "colab": {
          "base_uri": "https://localhost:8080/",
          "height": 34
        }
      },
      "source": [
        "#empty: similar to np.zero because it basically prints approx zeros (in pyton 2, but printed ones in python 3) in the specified(row,column) format\n",
        "print(np.empty(5))"
      ],
      "execution_count": 0,
      "outputs": [
        {
          "output_type": "stream",
          "text": [
            "[0. 0. 0. 0. 0.]\n"
          ],
          "name": "stdout"
        }
      ]
    },
    {
      "cell_type": "code",
      "metadata": {
        "id": "rTqu95UizAut",
        "colab_type": "code",
        "outputId": "c32d557b-9c2d-4336-b760-1d9b59224ee2",
        "colab": {
          "base_uri": "https://localhost:8080/",
          "height": 102
        }
      },
      "source": [
        "  #eye: np.eye prints out an identity matrix with diagonals of the same value\n",
        "\n",
        "  print(np.eye(5))"
      ],
      "execution_count": 0,
      "outputs": [
        {
          "output_type": "stream",
          "text": [
            "[[1. 0. 0. 0. 0.]\n",
            " [0. 1. 0. 0. 0.]\n",
            " [0. 0. 1. 0. 0.]\n",
            " [0. 0. 0. 1. 0.]\n",
            " [0. 0. 0. 0. 1.]]\n"
          ],
          "name": "stdout"
        }
      ]
    },
    {
      "cell_type": "code",
      "metadata": {
        "id": "zJZzghpOxgIH",
        "colab_type": "code",
        "outputId": "e5107fd8-97a9-4744-abbc-aa4440a72c3a",
        "colab": {
          "base_uri": "https://localhost:8080/",
          "height": 34
        }
      },
      "source": [
        "#arange: it prints in this format(start, final, difference range)\n",
        "\n",
        "print(np.arange(5, 50, 3))"
      ],
      "execution_count": 0,
      "outputs": [
        {
          "output_type": "stream",
          "text": [
            "[ 5  8 11 14 17 20 23 26 29 32 35 38 41 44 47]\n"
          ],
          "name": "stdout"
        }
      ]
    },
    {
      "cell_type": "code",
      "metadata": {
        "id": "CqO-KiRxz_j2",
        "colab_type": "code",
        "outputId": "7acf2481-8939-475f-8492-5b2876663d33",
        "colab": {
          "base_uri": "https://localhost:8080/",
          "height": 153
        }
      },
      "source": [
        "#Scalar operations in an array\n",
        "#multiply\n",
        "ar = np.array([[1,2,3,4],[5,6,7,8]])\n",
        "print(ar*ar)\n",
        "\n",
        "#exponential(power)\n",
        "ar1 = ar ** 3\n",
        "print(ar1)\n",
        "\n",
        "#subtraction\n",
        "ar2 = ar1 - ar1\n",
        "print(ar2)\n",
        "\n",
        "#division\n",
        "ar3 = 3 / ar\n",
        "print(ar3)\n",
        "\n"
      ],
      "execution_count": 0,
      "outputs": [
        {
          "output_type": "stream",
          "text": [
            "[[ 1  4  9 16]\n",
            " [25 36 49 64]]\n",
            "[[  1   8  27  64]\n",
            " [125 216 343 512]]\n",
            "[[0 0 0 0]\n",
            " [0 0 0 0]]\n",
            "[[3.         1.5        1.         0.75      ]\n",
            " [0.6        0.5        0.42857143 0.375     ]]\n"
          ],
          "name": "stdout"
        }
      ]
    },
    {
      "cell_type": "code",
      "metadata": {
        "id": "SbshX8ff5D9M",
        "colab_type": "code",
        "outputId": "a63bbc38-2624-4682-ad38-4245d9b44bc8",
        "colab": {
          "base_uri": "https://localhost:8080/",
          "height": 34
        }
      },
      "source": [
        "ar = np.arange(0,12)\n",
        "\n",
        "print(ar)"
      ],
      "execution_count": 0,
      "outputs": [
        {
          "output_type": "stream",
          "text": [
            "[ 0  1  2  3  4  5  6  7  8  9 10 11]\n"
          ],
          "name": "stdout"
        }
      ]
    },
    {
      "cell_type": "code",
      "metadata": {
        "id": "zBtHqsHUzR0r",
        "colab_type": "code",
        "outputId": "f061f83a-fa70-4769-f2b2-c27ec87f9be9",
        "colab": {
          "base_uri": "https://localhost:8080/",
          "height": 51
        }
      },
      "source": [
        "#index with arrays\n",
        "ar = np.arange(0,12)\n",
        "print(ar[4])\n",
        "print(ar[0:5])\n"
      ],
      "execution_count": 0,
      "outputs": [
        {
          "output_type": "stream",
          "text": [
            "4\n",
            "[0 1 2 3 4]\n"
          ],
          "name": "stdout"
        }
      ]
    },
    {
      "cell_type": "code",
      "metadata": {
        "id": "Wia1TYWM51B3",
        "colab_type": "code",
        "outputId": "6f704421-82ec-48aa-ed73-72f1a562a97a",
        "colab": {
          "base_uri": "https://localhost:8080/",
          "height": 51
        }
      },
      "source": [
        "ar[0:5] = 20\n",
        "print(ar)\n",
        "\n",
        "ar[:] = 20\n",
        "print(ar)"
      ],
      "execution_count": 0,
      "outputs": [
        {
          "output_type": "stream",
          "text": [
            "[20 20 20 20 20  5  6  7  8  9 10 11]\n",
            "[20 20 20 20 20 20 20 20 20 20 20 20]\n"
          ],
          "name": "stdout"
        }
      ]
    },
    {
      "cell_type": "code",
      "metadata": {
        "id": "igSWrVnezSNh",
        "colab_type": "code",
        "outputId": "8ff52767-372d-483f-a33f-01c1b9db3704",
        "colab": {
          "base_uri": "https://localhost:8080/",
          "height": 119
        }
      },
      "source": [
        "arr_copy = ar.copy()\n",
        "print(arr_copy)\n",
        "\n",
        "\n",
        "#slice: this means slicing in this order(0:2,0:2).\n",
        "ar2d = np.array([[1,2,3],[4,5,6],[7,8,9]])\n",
        "print(ar2d)\n",
        "slice1 = ar2d[0:2,0:2]\n",
        "print(slice1)"
      ],
      "execution_count": 0,
      "outputs": [
        {
          "output_type": "stream",
          "text": [
            "[20 20 20 20 20 20 20 20 20 20 20 20]\n",
            "[[1 2 3]\n",
            " [4 5 6]\n",
            " [7 8 9]]\n",
            "[[1 2]\n",
            " [4 5]]\n"
          ],
          "name": "stdout"
        }
      ]
    },
    {
      "cell_type": "code",
      "metadata": {
        "id": "AU-o8LEn-xom",
        "colab_type": "code",
        "outputId": "d2825923-1b28-4e9a-cfca-3318c3b66197",
        "colab": {
          "base_uri": "https://localhost:8080/",
          "height": 68
        }
      },
      "source": [
        "ar2d[:2, 1:] = 15\n",
        "print(ar2d) "
      ],
      "execution_count": 0,
      "outputs": [
        {
          "output_type": "stream",
          "text": [
            "[[ 1 15 15]\n",
            " [ 4 15 15]\n",
            " [ 7  8  9]]\n"
          ],
          "name": "stdout"
        }
      ]
    },
    {
      "cell_type": "code",
      "metadata": {
        "id": "nzFCW_u7BU9_",
        "colab_type": "code",
        "outputId": "3d0ae121-074f-4a2e-e1f3-1c00dbb91250",
        "colab": {
          "base_uri": "https://localhost:8080/",
          "height": 68
        }
      },
      "source": [
        "ar_len = ar2.shape[0]\n",
        "\n",
        "for i in range (ar_len):\n",
        "  ar2d[i] = i;\n",
        "print(ar2d); "
      ],
      "execution_count": 0,
      "outputs": [
        {
          "output_type": "stream",
          "text": [
            "[[0 0 0]\n",
            " [1 1 1]\n",
            " [7 8 9]]\n"
          ],
          "name": "stdout"
        }
      ]
    },
    {
      "cell_type": "code",
      "metadata": {
        "id": "K6tPRQfJB_ib",
        "colab_type": "code",
        "outputId": "4bcdbefb-a504-4a4b-b770-eb3c0d2ec7c3",
        "colab": {
          "base_uri": "https://localhost:8080/",
          "height": 34
        }
      },
      "source": [
        "print(ar_len)"
      ],
      "execution_count": 0,
      "outputs": [
        {
          "output_type": "stream",
          "text": [
            "2\n"
          ],
          "name": "stdout"
        }
      ]
    },
    {
      "cell_type": "code",
      "metadata": {
        "id": "90RBvaB3DmT8",
        "colab_type": "code",
        "outputId": "911c6fb3-d04d-49b7-ea69-9b06457ab455",
        "colab": {
          "base_uri": "https://localhost:8080/",
          "height": 153
        }
      },
      "source": [
        "#scalar operations\n",
        "\n",
        "A = np.arange(12)\n",
        "B = np.sqrt(A)\n",
        "\n",
        "C = (A * B)\n",
        "D = (A + B)\n",
        "E = (A / B)\n",
        "print(C)\n",
        "print(D) \n",
        "print(E)"
      ],
      "execution_count": 0,
      "outputs": [
        {
          "output_type": "stream",
          "text": [
            "[ 0.          1.          2.82842712  5.19615242  8.         11.18033989\n",
            " 14.69693846 18.52025918 22.627417   27.         31.6227766  36.48287269]\n",
            "[ 0.          2.          3.41421356  4.73205081  6.          7.23606798\n",
            "  8.44948974  9.64575131 10.82842712 12.         13.16227766 14.31662479]\n",
            "[       nan 1.         1.41421356 1.73205081 2.         2.23606798\n",
            " 2.44948974 2.64575131 2.82842712 3.         3.16227766 3.31662479]\n"
          ],
          "name": "stdout"
        },
        {
          "output_type": "stream",
          "text": [
            "/usr/local/lib/python3.6/dist-packages/ipykernel_launcher.py:7: RuntimeWarning: invalid value encountered in true_divide\n",
            "  import sys\n"
          ],
          "name": "stderr"
        }
      ]
    },
    {
      "cell_type": "code",
      "metadata": {
        "id": "a_DKp_u1CARj",
        "colab_type": "code",
        "outputId": "256a9e31-7dbe-4780-9fb2-1254d292bdac",
        "colab": {
          "base_uri": "https://localhost:8080/",
          "height": 85
        }
      },
      "source": [
        "#universal array finctions.\n",
        "\n",
        "#np.arange: teh format for np.arange is (start, finish, and range you wish to lay out the array)\n",
        "\n",
        "A = np.arange(15)\n",
        "B = np.arange(1, 15, 2)\n",
        "print (B)\n",
        "\n",
        "print(A)\n",
        "\n",
        "#sqrt: used to find the sqaure root of an array.\n",
        "C = np.sqrt(B)\n",
        "print(\"C is: \", C)"
      ],
      "execution_count": 0,
      "outputs": [
        {
          "output_type": "stream",
          "text": [
            "[ 1  3  5  7  9 11 13]\n",
            "[ 0  1  2  3  4  5  6  7  8  9 10 11 12 13 14]\n",
            "C is:  [1.         1.73205081 2.23606798 2.64575131 3.         3.31662479\n",
            " 3.60555128]\n"
          ],
          "name": "stdout"
        }
      ]
    },
    {
      "cell_type": "code",
      "metadata": {
        "id": "CJ_RvcgqAaND",
        "colab_type": "code",
        "outputId": "a81b972b-8dbf-4d10-e403-86e0efa14bab",
        "colab": {
          "base_uri": "https://localhost:8080/",
          "height": 68
        }
      },
      "source": [
        "#exp: np.exp() of an array is simply E^x of an array where x are the entries of arrays. \n",
        "\n",
        "A = np.arange(1,15,2)\n",
        "B = np.exp(A)\n",
        "print(A)\n",
        "print(B)"
      ],
      "execution_count": 0,
      "outputs": [
        {
          "output_type": "stream",
          "text": [
            "[ 1  3  5  7  9 11 13]\n",
            "[2.71828183e+00 2.00855369e+01 1.48413159e+02 1.09663316e+03\n",
            " 8.10308393e+03 5.98741417e+04 4.42413392e+05]\n"
          ],
          "name": "stdout"
        }
      ]
    },
    {
      "cell_type": "code",
      "metadata": {
        "id": "XxP54FfUC52V",
        "colab_type": "code",
        "outputId": "599d4058-3637-49b1-f1e0-f953615d6db5",
        "colab": {
          "base_uri": "https://localhost:8080/",
          "height": 68
        }
      },
      "source": [
        "#add: np.add() is used to perfrom matrix addition on different specified arrays. its syntax is np.add(A,B)\n",
        "#these matrixces must be of same shape\n",
        "\n",
        "A = np.arange(2,16,2)\n",
        "print(\"A is: \", A)\n",
        "B = np.arange(7)\n",
        "print(\"B is: \", B)\n",
        "C = np.add(A,B)\n",
        "print(\"A+B is\", C)\n",
        " "
      ],
      "execution_count": 0,
      "outputs": [
        {
          "output_type": "stream",
          "text": [
            "A is:  [ 2  4  6  8 10 12 14]\n",
            "B is:  [0 1 2 3 4 5 6]\n",
            "A+B is [ 2  5  8 11 14 17 20]\n"
          ],
          "name": "stdout"
        }
      ]
    },
    {
      "cell_type": "code",
      "metadata": {
        "id": "O5ovOLKgEfyt",
        "colab_type": "code",
        "outputId": "367900f5-9b96-4aa7-c1c4-d2193e102013",
        "colab": {
          "base_uri": "https://localhost:8080/",
          "height": 34
        }
      },
      "source": [
        "#maximum: np.maximum() prints the array with the highest number of entries as passed in the function\n",
        "\n",
        "A = np.arange(0,15,1)\n",
        "B = np.sqrt(A)\n",
        "\n",
        "C = np.maximum(A,B)\n",
        "print(C)"
      ],
      "execution_count": 0,
      "outputs": [
        {
          "output_type": "stream",
          "text": [
            "[ 0.  1.  2.  3.  4.  5.  6.  7.  8.  9. 10. 11. 12. 13. 14.]\n"
          ],
          "name": "stdout"
        }
      ]
    },
    {
      "cell_type": "code",
      "metadata": {
        "id": "NOvhoTSKAuuP",
        "colab_type": "code",
        "outputId": "371343a7-6447-4cb0-f845-902caa251137",
        "colab": {
          "base_uri": "https://localhost:8080/",
          "height": 34
        }
      },
      "source": [
        "#sving and loading arrays. np.save('Filename', array_to_be_stored) with numpy file extension .npy\n",
        "arr = np.arange(10)\n",
        "\n",
        "arr1 = np.save('arr1', arr)\n",
        "\n",
        "arr2 = np.load('arr1.npy')\n",
        "\n",
        "print(arr2)\n"
      ],
      "execution_count": 0,
      "outputs": [
        {
          "output_type": "stream",
          "text": [
            "[0 1 2 3 4 5 6 7 8 9]\n"
          ],
          "name": "stdout"
        }
      ]
    },
    {
      "cell_type": "code",
      "metadata": {
        "id": "whvxZkmrLlqm",
        "colab_type": "code",
        "colab": {}
      },
      "source": [
        "\n",
        "#savig multiple arrays: for storing multi arrays, np.savez() is a function used to save two or more arrays in a zip file\n",
        "ar = np.arange(20)\n",
        "ar1 = np.arange(30)\n",
        "\n",
        "np.savez('saved.npz', x = ar, y = ar1)\n",
        "load1 = np.load('zip.npz')\n",
        "print(load1['x'])\n"
      ],
      "execution_count": 0,
      "outputs": []
    },
    {
      "cell_type": "code",
      "metadata": {
        "id": "nwrEWrUrJGYk",
        "colab_type": "code",
        "colab": {}
      },
      "source": [
        "#saving to text format. np.savetxt\n",
        "arr1 = [[0,1,2,3], [4,5,6,7]]\n",
        "np.savetxt('text.txt', arr1, delimiter = ',')\n",
        "\n",
        "#loading txt files\n",
        "loaded_file = np.loadtxt('text.txt', delimiter =',')\n",
        "print(loaded_file )"
      ],
      "execution_count": 0,
      "outputs": []
    },
    {
      "cell_type": "code",
      "metadata": {
        "id": "oeXitmcjHSzS",
        "colab_type": "code",
        "outputId": "fa04bdb8-2fe4-40e4-a1ad-a60efffc10be",
        "colab": {
          "base_uri": "https://localhost:8080/",
          "height": 34
        }
      },
      "source": [
        "A = np.arange(1,5,2)\n",
        "print(A)"
      ],
      "execution_count": 0,
      "outputs": [
        {
          "output_type": "stream",
          "text": [
            "[1 3]\n"
          ],
          "name": "stdout"
        }
      ]
    },
    {
      "cell_type": "code",
      "metadata": {
        "id": "6vlejkopGWht",
        "colab_type": "code",
        "outputId": "77aee3ca-1018-4705-8e17-8e656e680398",
        "colab": {
          "base_uri": "https://localhost:8080/",
          "height": 136
        }
      },
      "source": [
        "A = np.array([1,2,3,4])\n",
        "B = np.array([5,6,7,8])\n",
        "\n",
        "print(A)\n",
        "print(B)\n",
        "\n",
        "print(A+B)\n",
        "print(A.shape)\n",
        "\n",
        "print(A-B)\n",
        "print(A*B\n",
        "      \n",
        "      )\n",
        "print(np.arange(1,12,2))"
      ],
      "execution_count": 0,
      "outputs": [
        {
          "output_type": "stream",
          "text": [
            "[1 2 3 4]\n",
            "[5 6 7 8]\n",
            "[ 6  8 10 12]\n",
            "(4,)\n",
            "[-4 -4 -4 -4]\n",
            "[ 5 12 21 32]\n",
            "[ 1  3  5  7  9 11]\n"
          ],
          "name": "stdout"
        }
      ]
    },
    {
      "cell_type": "code",
      "metadata": {
        "id": "for47gCzLyIp",
        "colab_type": "code",
        "outputId": "57eb6282-695b-4c47-e777-db97297c9501",
        "colab": {
          "base_uri": "https://localhost:8080/",
          "height": 635
        }
      },
      "source": [
        "#statistical and mathematical processing of arrays.\n",
        "\n",
        "import matplotlib.pyplot as plt\n",
        "axes_val = np.arange(-50,50,10)\n",
        "\n",
        "dx, dy = np.meshgrid(axes_val, axes_val)\n",
        "\n",
        "print(\"dy:\", dy)\n",
        "print(\"dx: \", dx)\n",
        "\n",
        "function = 2*dx+3*dy\n",
        "\n",
        "plt.imshow(function)\n",
        "plt.title(\"functions of plot 2*dx+3*dy\")\n",
        "\n",
        "plt.colorbar()\n",
        "\n",
        "#defining anoteh function with np.cos()\n",
        "funct2 = np.cos(dx) + np.cos(dy)\n",
        "plt.imshow(funct2)\n",
        "plt.title(\"funct2\")\n",
        "plt.colorbar()"
      ],
      "execution_count": 0,
      "outputs": [
        {
          "output_type": "stream",
          "text": [
            "dy: [[-50 -50 -50 -50 -50 -50 -50 -50 -50 -50]\n",
            " [-40 -40 -40 -40 -40 -40 -40 -40 -40 -40]\n",
            " [-30 -30 -30 -30 -30 -30 -30 -30 -30 -30]\n",
            " [-20 -20 -20 -20 -20 -20 -20 -20 -20 -20]\n",
            " [-10 -10 -10 -10 -10 -10 -10 -10 -10 -10]\n",
            " [  0   0   0   0   0   0   0   0   0   0]\n",
            " [ 10  10  10  10  10  10  10  10  10  10]\n",
            " [ 20  20  20  20  20  20  20  20  20  20]\n",
            " [ 30  30  30  30  30  30  30  30  30  30]\n",
            " [ 40  40  40  40  40  40  40  40  40  40]]\n",
            "dx:  [[-50 -40 -30 -20 -10   0  10  20  30  40]\n",
            " [-50 -40 -30 -20 -10   0  10  20  30  40]\n",
            " [-50 -40 -30 -20 -10   0  10  20  30  40]\n",
            " [-50 -40 -30 -20 -10   0  10  20  30  40]\n",
            " [-50 -40 -30 -20 -10   0  10  20  30  40]\n",
            " [-50 -40 -30 -20 -10   0  10  20  30  40]\n",
            " [-50 -40 -30 -20 -10   0  10  20  30  40]\n",
            " [-50 -40 -30 -20 -10   0  10  20  30  40]\n",
            " [-50 -40 -30 -20 -10   0  10  20  30  40]\n",
            " [-50 -40 -30 -20 -10   0  10  20  30  40]]\n"
          ],
          "name": "stdout"
        },
        {
          "output_type": "execute_result",
          "data": {
            "text/plain": [
              "<matplotlib.colorbar.Colorbar at 0x7f4da5e116d8>"
            ]
          },
          "metadata": {
            "tags": []
          },
          "execution_count": 46
        },
        {
          "output_type": "display_data",
          "data": {
            "image/png": "[encoded data removed]",
            "text/plain": [
              "<Figure size 432x288 with 3 Axes>"
            ]
          },
          "metadata": {
            "tags": []
          }
        }
      ]
    },
    {
      "cell_type": "code",
      "metadata": {
        "id": "zsCXxnCTQqn2",
        "colab_type": "code",
        "outputId": "9a371a70-7193-4f07-f313-a09d293c867d",
        "colab": {
          "base_uri": "https://localhost:8080/",
          "height": 68
        }
      },
      "source": [
        "#conditional clause and boolean operations\n",
        "x = np.array([1,2,3,4])\n",
        "y = np.array([5,6,7,8])\n",
        "condition = np.array([True,True,False,False])\n",
        "\n",
        "#looping through conditions, we can implement this in a astraight line\n",
        "z = [a if cond else b for a,cond,b in zip(x,condition,y)]\n",
        "print(z)\n",
        "#this will give an output of [1,2,7,8] becuse the first two conditions of array x is true. \n",
        "#so it skipped the last two and displayed the last two elements from array y.\n",
        "#this ca however be simplified with np.where()\n",
        "\n",
        "w = np.where(condition,x,y)\n",
        "print(w)\n",
        "\n",
        "#standard functions of numpy\n",
        "print(x.sum())#this simply sums up the values in the array\n",
        "\n",
        "#for column sum\n",
        "print(x.sum(0)) #this prints the sum of the column with the axis specified"
      ],
      "execution_count": 0,
      "outputs": [
        {
          "output_type": "stream",
          "text": [
            "[1, 2, 7, 8]\n",
            "[1 2 7 8]\n",
            "10\n"
          ],
          "name": "stdout"
        }
      ]
    }
  ]
}