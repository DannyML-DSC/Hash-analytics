{
  "nbformat": 4,
  "nbformat_minor": 0,
  "metadata": {
    "colab": {
      "name": "FileOperations",
      "provenance": [],
      "collapsed_sections": [],
      "include_colab_link": true
    },
    "kernelspec": {
      "name": "python3",
      "display_name": "Python 3"
    }
  },
  "cells": [
    {
      "cell_type": "markdown",
      "metadata": {
        "id": "view-in-github",
        "colab_type": "text"
      },
      "source": [
        "<a href=\"https://colab.research.google.com/github/DannyML-DSC/Hash-analytics/blob/master/FileOperations.ipynb\" target=\"_parent\"><img src=\"https://colab.research.google.com/assets/colab-badge.svg\" alt=\"Open In Colab\"/></a>"
      ]
    },
    {
      "cell_type": "code",
      "metadata": {
        "id": "aFxO2vxi0Jb7",
        "colab_type": "code",
        "outputId": "f876cd0f-f62f-431f-9609-5a648a734aa6",
        "colab": {
          "base_uri": "https://localhost:8080/",
          "height": 377
        }
      },
      "source": [
        "#authenticatiopn script in gcp\n",
        "!apt-get install -y -qq software-properties-common python-software-properties module-init-tools\n",
        "\n",
        "!apt-get install software-properties-common\n",
        "\n",
        "!apt-get install -y -qq software-properties-common module-init-tools\n",
        "\n",
        "!apt-get install -y -qq python-software-properties module-init-tools\n",
        "\n",
        "!add-apt-repository -y ppa:alessandro-strada/ppa 2>&1 > /dev/null\n",
        "\n",
        "!apt-get update -qq 2>&1 > /dev/null\n",
        "!apt-get -y install -qq google-drive-ocamlfuse fuse\n",
        "from google.colab import auth\n",
        "auth.authenticate_user()\n",
        "from oauth2client.client import GoogleCredentials\n",
        "creds = GoogleCredentials.get_application_default()\n",
        "import getpass\n",
        "!google-drive-ocamlfuse -headless -id={creds.client_id} -secret={creds.client_secret} < /dev/null 2>&1 | grep URL\n",
        "vcode = getpass.getpass()\n",
        "!echo {vcode} | google-drive-ocamlfuse -headless -id={creds.client_id} -secret={creds.client_secret}\n",
        "\n",
        "\n",
        "\n"
      ],
      "execution_count": 0,
      "outputs": [
        {
          "output_type": "stream",
          "text": [
            "E: Package 'python-software-properties' has no installation candidate\n",
            "Reading package lists... Done\n",
            "Building dependency tree       \n",
            "Reading state information... Done\n",
            "software-properties-common is already the newest version (0.96.24.32.12).\n",
            "The following package was automatically installed and is no longer required:\n",
            "  libnvidia-common-430\n",
            "Use 'apt autoremove' to remove it.\n",
            "0 upgraded, 0 newly installed, 0 to remove and 16 not upgraded.\n",
            "E: Package 'python-software-properties' has no installation candidate\n",
            "Selecting previously unselected package google-drive-ocamlfuse.\n",
            "(Reading database ... 134485 files and directories currently installed.)\n",
            "Preparing to unpack .../google-drive-ocamlfuse_0.7.17-0ubuntu1~ubuntu18.04.1_amd64.deb ...\n",
            "Unpacking google-drive-ocamlfuse (0.7.17-0ubuntu1~ubuntu18.04.1) ...\n",
            "Setting up google-drive-ocamlfuse (0.7.17-0ubuntu1~ubuntu18.04.1) ...\n",
            "Processing triggers for man-db (2.8.3-2ubuntu0.1) ...\n",
            "Please, open the following URL in a web browser: https://accounts.google.com/o/oauth2/auth?client_id=32555940559.apps.googleusercontent.com&redirect_uri=urn%3Aietf%3Awg%3Aoauth%3A2.0%3Aoob&scope=https%3A%2F%2Fwww.googleapis.com%2Fauth%2Fdrive&response_type=code&access_type=offline&approval_prompt=force\n",
            "··········\n",
            "Please, open the following URL in a web browser: https://accounts.google.com/o/oauth2/auth?client_id=32555940559.apps.googleusercontent.com&redirect_uri=urn%3Aietf%3Awg%3Aoauth%3A2.0%3Aoob&scope=https%3A%2F%2Fwww.googleapis.com%2Fauth%2Fdrive&response_type=code&access_type=offline&approval_prompt=force\n",
            "Please enter the verification code: Access token retrieved correctly.\n"
          ],
          "name": "stdout"
        }
      ]
    },
    {
      "cell_type": "code",
      "metadata": {
        "id": "mtMrCmKk1GbU",
        "colab_type": "code",
        "colab": {}
      },
      "source": [
        "#script for reading data from google drive\n",
        "!mkdir -p drive\n",
        "!google-drive-ocamlfuse drive"
      ],
      "execution_count": 0,
      "outputs": []
    },
    {
      "cell_type": "code",
      "metadata": {
        "id": "h9e_aJn81MST",
        "colab_type": "code",
        "colab": {}
      },
      "source": [
        "#important libraries in this exercise\n",
        "import pandas as pd\n",
        "import xlrd\n"
      ],
      "execution_count": 0,
      "outputs": []
    },
    {
      "cell_type": "code",
      "metadata": {
        "id": "16y7NKR21w7r",
        "colab_type": "code",
        "outputId": "5338afeb-854e-4a9a-cbba-e324c03867e6",
        "colab": {
          "base_uri": "https://localhost:8080/",
          "height": 187
        }
      },
      "source": [
        "data = pd.ExcelFile(\"drive//app//data.xlsx\") \n",
        "\n",
        "wbook = xlrd.open_workbook(\"drive//app//data.xlsx\")\n",
        "\n",
        "for excel_sheet in wbook.sheets():\n",
        "  print(excel_sheet.name)"
      ],
      "execution_count": 0,
      "outputs": [
        {
          "output_type": "stream",
          "text": [
            "Sheet1\n",
            "Sheet2\n",
            "Sheet3\n",
            "Sheet4\n",
            "Sheet5\n",
            "Sheet6\n",
            "Sheet7\n",
            "Sheet8\n",
            "Sheet9\n",
            "Sheet10\n"
          ],
          "name": "stdout"
        }
      ]
    },
    {
      "cell_type": "code",
      "metadata": {
        "id": "Jdpx4oWJ1g18",
        "colab_type": "code",
        "colab": {}
      },
      "source": [
        " #reading all the sheets in the excel workbook\n",
        " sheet1 = pd.read_excel(data, sheet_name='Sheet1')\n",
        " sheet2 = pd.read_excel(data, sheet_name='Sheet2')\n",
        " sheet3 = pd.read_excel(data, sheet_name='Sheet3')\n",
        " sheet4 = pd.read_excel(data, sheet_name='Sheet4')\n",
        " sheet5 = pd.read_excel(data, sheet_name='Sheet5')\n",
        " sheet6 = pd.read_excel(data, sheet_name='Sheet6')\n",
        " sheet7 = pd.read_excel(data, sheet_name='Sheet7')\n",
        " sheet8 = pd.read_excel(data, sheet_name='Sheet8')\n",
        " sheet9 = pd.read_excel(data, sheet_name='Sheet9')\n",
        " sheet10 = pd.read_excel(data, sheet_name='Sheet10')\n",
        "  "
      ],
      "execution_count": 0,
      "outputs": []
    },
    {
      "cell_type": "code",
      "metadata": {
        "id": "LojnjD2GTyXO",
        "colab_type": "code",
        "colab": {}
      },
      "source": [
        "#exporting all read sheets to csv file\n",
        "sheet1.to_csv('drive//app//sheet1.csv')\n",
        "sheet2.to_csv('drive//app//sheet2.csv')\n",
        "sheet3.to_csv('drive//app//sheet3.csv')\n",
        "sheet4.to_csv('drive//app//sheet4.csv')\n",
        "sheet5.to_csv('drive//app//sheet5.csv')\n",
        "sheet6.to_csv('drive//app//sheet6.csv')\n",
        "sheet7.to_csv('drive//app//sheet7.csv')\n",
        "sheet8.to_csv('drive//app//sheet8.csv')\n",
        "sheet9.to_csv('drive//app//sheet9.csv')\n",
        "sheet10.to_csv('drive//app//sheet10.csv')"
      ],
      "execution_count": 0,
      "outputs": []
    },
    {
      "cell_type": "code",
      "metadata": {
        "id": "gd9RJ1VDU3Ck",
        "colab_type": "code",
        "colab": {}
      },
      "source": [
        " "
      ],
      "execution_count": 0,
      "outputs": []
    }
  ]
}